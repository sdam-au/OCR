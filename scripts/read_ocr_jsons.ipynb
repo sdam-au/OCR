{
 "cells": [
  {
   "cell_type": "code",
   "execution_count": 1,
   "metadata": {},
   "outputs": [],
   "source": [
    "import sddk\n",
    "from bs4 import BeautifulSoup"
   ]
  },
  {
   "cell_type": "code",
   "execution_count": 3,
   "metadata": {},
   "outputs": [
    {
     "name": "stdin",
     "output_type": "stream",
     "text": [
      "sciencedata.dk username (format '123456@au.dk'):  648597@au.dk\n",
      "sciencedata.dk password:  ········\n"
     ]
    },
    {
     "name": "stdout",
     "output_type": "stream",
     "text": [
      "connection with shared folder established with you as its owner\n",
      "endpoint variable has been configured to: https://sciencedata.dk/files/SDAM_root/\n"
     ]
    }
   ],
   "source": [
    "conf = sddk.configure_session_and_url(\"SDAM_root\", \"648597@au.dk\")"
   ]
  },
  {
   "cell_type": "code",
   "execution_count": 6,
   "metadata": {},
   "outputs": [],
   "source": [
    "def list_files_in_dir(dirpath, conf):\n",
    "    resp = conf[0].get(conf[1] + dirpath)\n",
    "    soup = BeautifulSoup(resp.content)\n",
    "    filenames = []\n",
    "    for a in soup.find_all(\"a\"):\n",
    "        a_str = str(a.get_text())\n",
    "        if \".json\" in a_str:\n",
    "            filenames.append(a_str)\n",
    "    return filenames"
   ]
  },
  {
   "cell_type": "code",
   "execution_count": 8,
   "metadata": {},
   "outputs": [],
   "source": [
    "filenames = list_files_in_dir(\"/SDAM_data/OCR/outputs\", conf)"
   ]
  },
  {
   "cell_type": "code",
   "execution_count": 9,
   "metadata": {},
   "outputs": [],
   "source": [
    "def get_str_pages(ocr_dict):\n",
    "    i = 1\n",
    "    pages = \"\"\n",
    "    for page in ocr_dict.values():\n",
    "        page += \"\\n\\n[end-of-page\" + str(i) + \"]\\n\\n\"\n",
    "        pages += page\n",
    "        i = i+1\n",
    "    return pages"
   ]
  },
  {
   "cell_type": "code",
   "execution_count": 15,
   "metadata": {},
   "outputs": [
    {
     "name": "stdout",
     "output_type": "stream",
     "text": [
      "/SDAM_data/OCR/outputs/AOR'1973_1972.txt\n",
      "/SDAM_data/OCR/outputs/AOR'1980_1979.txt\n",
      "/SDAM_data/OCR/outputs/AOR'1990_1989.txt\n",
      "/SDAM_data/OCR/outputs/AOR'2001_1999-2000.txt\n",
      "/SDAM_data/OCR/outputs/Kitov2008_PutyaNaMinaloto.txt\n"
     ]
    }
   ],
   "source": [
    "for filename in filenames:\n",
    "    ocr_dict = sddk.read_file(\"/SDAM_data/OCR/outputs/\" + filename, \"dict\", conf)\n",
    "    pages_str = get_str_pages(ocr_dict)\n",
    "    filepathname = \"/SDAM_data/OCR/outputs/\" + filename.rpartition(\".\")[0] + \".txt\"\n",
    "    print(filepathname)\n",
    "    conf[0].put(conf[1] + filepathname, data=pages_str.encode('utf-8'))\n",
    "    ### with a new package version, you will be able to run:\n",
    "    ###sddk.write_file(filepathname, pages_str, conf)"
   ]
  },
  {
   "cell_type": "code",
   "execution_count": null,
   "metadata": {},
   "outputs": [],
   "source": []
  }
 ],
 "metadata": {
  "kernelspec": {
   "display_name": "Python 3",
   "language": "python",
   "name": "python3"
  },
  "language_info": {
   "codemirror_mode": {
    "name": "ipython",
    "version": 3
   },
   "file_extension": ".py",
   "mimetype": "text/x-python",
   "name": "python",
   "nbconvert_exporter": "python",
   "pygments_lexer": "ipython3",
   "version": "3.6.8"
  }
 },
 "nbformat": 4,
 "nbformat_minor": 4
}
