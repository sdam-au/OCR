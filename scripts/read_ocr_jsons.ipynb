{
 "cells": [
  {
   "cell_type": "code",
   "execution_count": 7,
   "metadata": {},
   "outputs": [],
   "source": [
    "import sddk"
   ]
  },
  {
   "cell_type": "code",
   "execution_count": 8,
   "metadata": {},
   "outputs": [
    {
     "name": "stdin",
     "output_type": "stream",
     "text": [
      "sciencedata.dk username (format '123456@au.dk'):  648597@au.dk\n",
      "sciencedata.dk password:  ········\n"
     ]
    },
    {
     "name": "stdout",
     "output_type": "stream",
     "text": [
      "connection with shared folder established with you as its owner\n",
      "endpoint variable has been configured to: https://sciencedata.dk/files/SDAM_root/\n"
     ]
    }
   ],
   "source": [
    "conf = sddk.configure_session_and_url(\"SDAM_root\", \"648597@au.dk\")"
   ]
  },
  {
   "cell_type": "code",
   "execution_count": 9,
   "metadata": {},
   "outputs": [],
   "source": [
    "ocr_dict = sddk.read_file(\"/SDAM_data/OCR/outputs/AOR'1973_1972.json\", \"dict\", conf)"
   ]
  },
  {
   "cell_type": "code",
   "execution_count": 14,
   "metadata": {},
   "outputs": [
    {
     "data": {
      "text/plain": [
       "dict_keys(['page 1', 'page 2', 'page 3', 'page 4', 'page 5', 'page 6', 'page 7', 'page 8', 'page 9', 'page 10', 'page 11', 'page 12', 'page 13', 'page 14', 'page 15', 'page 16', 'page 17', 'page 18', 'page 19', 'page 20', 'page 21', 'page 22', 'page 23', 'page 24', 'page 25', 'page 26', 'page 27', 'page 28', 'page 29', 'page 30', 'page 31', 'page 32', 'page 33', 'page 34', 'page 35', 'page 36', 'page 37', 'page 38', 'page 39', 'page 40', 'page 41', 'page 42', 'page 43'])"
      ]
     },
     "execution_count": 14,
     "metadata": {},
     "output_type": "execute_result"
    }
   ],
   "source": [
    "ocr_dict.keys()"
   ]
  },
  {
   "cell_type": "code",
   "execution_count": 15,
   "metadata": {},
   "outputs": [
    {
     "data": {
      "text/plain": [
       "'П. ДЕТЕВ (ПЛОВДИВ)\\n\\nРАЗКОПКИ НА СЕЛИЩНАТА МОГИЛА \"МАЛТЕПЕ\"\\nПРИ С. ОГВАНОВО\\n\\nПрев есента на 1972 г. проведохме спасителни разкопки на се-\\nлищивте могила \"Малтепе\", намирава св на 3 ки югоизточно от с.\\nОгняново, Пазарджишки окръг. Могилата се намира на еднв тераса\\nдо десния бряг на р.Марица. Има диаметър при основата 80 ми ви-\\nсочина 2,50 м. По-голямата част от нея беше унищожека от ОПУ в\\nПазарджик за пръстта И, с която са издигани диги за мост над\\nр.Марица при с„Хаджиево, Пазаржишки окръг. Беше останала само се-\\nверозаладната И част с периферни удължения на пг и изток. За да\\nсе спаби каквото може и да събера? данни за бита и културата на\\nнаселението, което е живяло в селищетс, ОЙК в Пазарджик предприе\\nспасителни разкопки. За целта бяха отпуснати 4000 лв. и проведох-\\n\\n\"ме разкопки под ръководството на ст.н.с. П. Детев от Народния ар-\\n\\nхеологически мувей в Пловдив и със сътрудничеството на В. Мацано-\\nза, уредник в ОЙК - Пазарджик, необходимия помощен персонал я 20\\nработници,\\n\\nС Вай-напред разкопехме и проучикие останките от седицето в се-\\nверозападния край на могилато с киното периферно удължение, къ-\\nдето културният пласт е висок от 0,50 до 1,20 м, а след това -\\nостанките на могилата около електрическия стълб. В културния\\nпласт на соверозападния край на могилата открихме 4 слоя (нива или\\nхоризонти), а около слектрическия стълб - 6 слоя с височина на\\nкултурния пласт 2,50 м. От това се вижда, че селицето е възстано-\\nВявако и изгаряно 6 пъти. Глинените съдове, фрагменти и други ма-\\nтериали, комто открихме, показват, че то в съзествувало през къс-\\nвобронзовата епоха и е загинало в началото на желязната епоха...\\n\\n2'"
      ]
     },
     "execution_count": 15,
     "metadata": {},
     "output_type": "execute_result"
    }
   ],
   "source": [
    "ocr_dict[\"page 6\"]"
   ]
  },
  {
   "cell_type": "code",
   "execution_count": null,
   "metadata": {},
   "outputs": [],
   "source": []
  }
 ],
 "metadata": {
  "kernelspec": {
   "display_name": "Python 3",
   "language": "python",
   "name": "python3"
  },
  "language_info": {
   "codemirror_mode": {
    "name": "ipython",
    "version": 3
   },
   "file_extension": ".py",
   "mimetype": "text/x-python",
   "name": "python",
   "nbconvert_exporter": "python",
   "pygments_lexer": "ipython3",
   "version": "3.6.8"
  }
 },
 "nbformat": 4,
 "nbformat_minor": 4
}
